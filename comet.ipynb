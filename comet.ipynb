{
  "nbformat": 4,
  "nbformat_minor": 0,
  "metadata": {
    "colab": {
      "name": "comet.ipynb",
      "provenance": [],
      "collapsed_sections": [],
      "mount_file_id": "1WIYFl36pv9_XIfpN6x76uWXTjXY8a8Zg",
      "authorship_tag": "ABX9TyMHm107AbHF3wpyFhUFXiu+"
    },
    "kernelspec": {
      "name": "python3",
      "display_name": "Python 3"
    }
  },
  "cells": [
    {
      "cell_type": "code",
      "metadata": {
        "id": "24FXN-arb-TG",
        "colab_type": "code",
        "colab": {
          "base_uri": "https://localhost:8080/",
          "height": 306
        },
        "outputId": "dedd55dc-3c71-4b80-82e5-575be4698631"
      },
      "source": [
        "#!pip install skyfield\n",
        "\n",
        "coords = [34.398, -118.483, 500]\n",
        "comet_name = '2020 F3'\n",
        "numdays = 15\n",
        "\n",
        "import comet\n",
        "\n",
        "t = comet.ts.now()\n",
        "comet_df = comet.comet_by_name(comet_name)\n",
        "comet.calc_comet(comet_df, t, coords, numdays)\n"
      ],
      "execution_count": null,
      "outputs": [
        {
          "output_type": "stream",
          "text": [
            "Requirement already satisfied: skyfield in /usr/local/lib/python3.6/dist-packages (1.23)\n",
            "Requirement already satisfied: certifi>=2017.4.17 in /usr/local/lib/python3.6/dist-packages (from skyfield) (2020.6.20)\n",
            "Requirement already satisfied: sgp4>=2.2 in /usr/local/lib/python3.6/dist-packages (from skyfield) (2.12)\n",
            "Requirement already satisfied: jplephem>=2.13 in /usr/local/lib/python3.6/dist-packages (from skyfield) (2.14)\n",
            "Requirement already satisfied: numpy in /usr/local/lib/python3.6/dist-packages (from skyfield) (1.18.5)\n",
            "RA 08h 13m 18.91s    DEC +47deg 48' 51.4\"    Distance 0.751796 au\n",
            "\n",
            "Observer at 34deg 23' 52.8\" N   -118deg 28' 58.8\" E   Elevation 500.0 m\n",
            "Altitude 46deg 40' 08.8\"      Azumuth 54deg 26' 08.4\" 0.751765 au\n",
            "\n",
            "Rises and sets over 5 days:\n",
            "Date          Rise       Azimuth    Set        Az                \n",
            "2020-07-17    11:16 UTC   24°47'    06:20 UTC  335°23'           \n",
            "2020-07-18    11:33 UTC   24°36'    06:37 UTC  335° 5'           \n",
            "2020-07-19    11:53 UTC   25° 3'    06:50 UTC  334°10'           \n",
            "2020-07-20    12:17 UTC   26° 6'    07:01 UTC  332°41'           \n",
            "2020-07-21    12:42 UTC   27°43'                                 \n"
          ],
          "name": "stdout"
        }
      ]
    }
  ]
}